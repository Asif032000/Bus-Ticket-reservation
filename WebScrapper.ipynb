{
  "nbformat": 4,
  "nbformat_minor": 0,
  "metadata": {
    "colab": {
      "name": "WebScrapper.ipynb",
      "provenance": [],
      "authorship_tag": "ABX9TyP6OCkOQr291srxq/tFEjoT",
      "include_colab_link": true
    },
    "kernelspec": {
      "name": "python3",
      "display_name": "Python 3"
    }
  },
  "cells": [
    {
      "cell_type": "markdown",
      "metadata": {
        "id": "view-in-github",
        "colab_type": "text"
      },
      "source": [
        "<a href=\"https://colab.research.google.com/github/Asif032000/Bus-Ticket-reservation/blob/master/WebScrapper.ipynb\" target=\"_parent\"><img src=\"https://colab.research.google.com/assets/colab-badge.svg\" alt=\"Open In Colab\"/></a>"
      ]
    },
    {
      "cell_type": "code",
      "metadata": {
        "id": "yI8Ae4ncCv1l",
        "colab_type": "code",
        "colab": {
          "base_uri": "https://localhost:8080/",
          "height": 162
        },
        "outputId": "ccc46b25-9908-4451-9af8-331a263c8a35"
      },
      "source": [
        "!pip install matplotlib\n"
      ],
      "execution_count": 4,
      "outputs": [
        {
          "output_type": "stream",
          "text": [
            "Requirement already satisfied: matplotlib in /usr/local/lib/python3.6/dist-packages (3.2.1)\n",
            "Requirement already satisfied: cycler>=0.10 in /usr/local/lib/python3.6/dist-packages (from matplotlib) (0.10.0)\n",
            "Requirement already satisfied: python-dateutil>=2.1 in /usr/local/lib/python3.6/dist-packages (from matplotlib) (2.8.1)\n",
            "Requirement already satisfied: kiwisolver>=1.0.1 in /usr/local/lib/python3.6/dist-packages (from matplotlib) (1.1.0)\n",
            "Requirement already satisfied: numpy>=1.11 in /usr/local/lib/python3.6/dist-packages (from matplotlib) (1.18.2)\n",
            "Requirement already satisfied: pyparsing!=2.0.4,!=2.1.2,!=2.1.6,>=2.0.1 in /usr/local/lib/python3.6/dist-packages (from matplotlib) (2.4.6)\n",
            "Requirement already satisfied: six in /usr/local/lib/python3.6/dist-packages (from cycler>=0.10->matplotlib) (1.12.0)\n",
            "Requirement already satisfied: setuptools in /usr/local/lib/python3.6/dist-packages (from kiwisolver>=1.0.1->matplotlib) (46.0.0)\n"
          ],
          "name": "stdout"
        }
      ]
    },
    {
      "cell_type": "code",
      "metadata": {
        "id": "3soCoO1gC8f5",
        "colab_type": "code",
        "colab": {
          "base_uri": "https://localhost:8080/",
          "height": 297
        },
        "outputId": "52dbaa3a-1d75-4563-f78f-ed0ef345fd20"
      },
      "source": [
        "import matplotlib.pyplot as plt\n",
        "x=[2,9,4,6]\n",
        "y=[7,3,4,5]\n",
        "plt.xlabel(\"distance\")\n",
        "plt.ylabel(\"time\")\n",
        "plt.plot(x,y)\n",
        "plt.scatter(x,y,s=200,label=\"distance and time\")\n",
        "plt.grid(color=\"green\")\n",
        "plt.legend()\n",
        "#plt.show()\n",
        "plt.bar(x,y,label=\"height of stations\")\n",
        "\n",
        "\n"
      ],
      "execution_count": 22,
      "outputs": [
        {
          "output_type": "execute_result",
          "data": {
            "text/plain": [
              "<BarContainer object of 4 artists>"
            ]
          },
          "metadata": {
            "tags": []
          },
          "execution_count": 22
        },
        {
          "output_type": "display_data",
          "data": {
            "image/png": "[encoded data removed]",
            "text/plain": [
              "<Figure size 432x288 with 1 Axes>"
            ]
          },
          "metadata": {
            "tags": []
          }
        }
      ]
    },
    {
      "cell_type": "code",
      "metadata": {
        "id": "J3Qav7h3DdN0",
        "colab_type": "code",
        "colab": {
          "base_uri": "https://localhost:8080/",
          "height": 539
        },
        "outputId": "b576f7a0-9864-4f15-f301-30ace83e0a98"
      },
      "source": [
        "scores=[123,332,21,312,443]\n",
        "players=[\"sehwag\",\"dhoni\",\"bhubhneshwar\",\"sachin\",\"virat\"]\n",
        "plt.pie(scores,labels=players, explode=(0.2,0,0,0,0.1),shadow=\"True\",autopct=('%1.1ff%%'))"
      ],
      "execution_count": 24,
      "outputs": [
        {
          "output_type": "stream",
          "text": [
            "ERROR! Session/line number was not unique in database. History logging moved to new session 63\n"
          ],
          "name": "stdout"
        },
        {
          "output_type": "execute_result",
          "data": {
            "text/plain": [
              "([<matplotlib.patches.Wedge at 0x7f0e7b315208>,\n",
              "  <matplotlib.patches.Wedge at 0x7f0e7b375da0>,\n",
              "  <matplotlib.patches.Wedge at 0x7f0e7b375e80>,\n",
              "  <matplotlib.patches.Wedge at 0x7f0e7b3ee5f8>,\n",
              "  <matplotlib.patches.Wedge at 0x7f0e7b3ecf98>],\n",
              " [Text(1.2364759497784927, 0.4014065590138939, 'sehwag'),\n",
              "  Text(0.10511208397021439, 1.094966414920311, 'dhoni'),\n",
              "  Text(-0.7930483738868748, 0.7622822814911705, 'bhubhneshwar'),\n",
              "  Text(-1.0961013223227247, -0.0925304879613982, 'sachin'),\n",
              "  Text(0.5113784324932252, -1.0855837594496207, 'virat')],\n",
              " [Text(0.7609082767867646, 0.247019420931627, '10.0f%'),\n",
              "  Text(0.0573338639837533, 0.5972544081383514, '27.0f%'),\n",
              "  Text(-0.43257184030193163, 0.4157903353588202, '1.7f%'),\n",
              "  Text(-0.597873448539668, -0.05047117525167174, '25.3f%'),\n",
              "  Text(0.298304085621048, -0.6332571930122787, '36.0f%')])"
            ]
          },
          "metadata": {
            "tags": []
          },
          "execution_count": 24
        },
        {
          "output_type": "display_data",
          "data": {
            "image/png": "[encoded data removed]",
            "text/plain": [
              "<Figure size 432x288 with 1 Axes>"
            ]
          },
          "metadata": {
            "tags": []
          }
        }
      ]
    },
    {
      "cell_type": "code",
      "metadata": {
        "id": "BkfiYh0-GATv",
        "colab_type": "code",
        "colab": {}
      },
      "source": [
        "#from urllib.request import Request ,urlopen\n",
        "#from bs4 import BeautifulSoup\n",
        "#url=Request('https://corona.help')\n",
        "#data= urlopen(url)\n",
        "#data.read()\n",
        "#print(data)"
      ],
      "execution_count": 0,
      "outputs": []
    },
    {
      "cell_type": "code",
      "metadata": {
        "id": "9zz5BgydHJgr",
        "colab_type": "code",
        "colab": {
          "base_uri": "https://localhost:8080/",
          "height": 126
        },
        "outputId": "3c1cd035-9da3-4581-b16e-0fed9e40bf2e"
      },
      "source": [
        "import requests\n",
        "page=requests.get('https://corona.help')    \n",
        "\n",
        "from bs4 import BeautifulSoup\n",
        "soup = BeautifulSoup(page.content,'html.parser')\n",
        "print('Total number of confirmed cases are:')\n",
        "number = soup.find_all('h2')[1].get_text()\n",
        "print(number)\n",
        "\n",
        "print('out of which confirmed cases today are:')\n",
        "numbertoday=soup.find_all('h2')[4].get_text()\n",
        "print(numbertoday)\n",
        "print('number of cases in turkey are:')\n",
        "numturkey=soup.find_all('td',class_=\"text-warning\")[41]\n",
        "for i in numturkey:\n",
        "  print(i)\n",
        "#print(soup.prettify())\n",
        "#list(soup.children)"
      ],
      "execution_count": 79,
      "outputs": [
        {
          "output_type": "stream",
          "text": [
            "Total number of confirmed cases are:\n",
            "523,633\n",
            "out of which confirmed cases today are:\n",
            "54,439\n",
            "number of cases in turkey are:\n",
            "2542\n"
          ],
          "name": "stdout"
        }
      ]
    },
    {
      "cell_type": "code",
      "metadata": {
        "id": "xidtRPxZHQDq",
        "colab_type": "code",
        "colab": {}
      },
      "source": [
        ""
      ],
      "execution_count": 0,
      "outputs": []
    }
  ]
}